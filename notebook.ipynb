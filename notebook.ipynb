{
 "cells": [
  {
   "cell_type": "markdown",
   "id": "c747d469-ee97-4b95-880f-feefd5456042",
   "metadata": {
    "id": "bA5ajAmk7XH6"
   },
   "source": [
    "![NYC Skyline](image/nyc.jpg)\n",
    "\n",
    "Welcome to New York City, one of the most-visited cities in the world. There are many Airbnb listings in New York City to meet the high demand for temporary lodging for travelers, which can be anywhere between a few nights to many months. In this project, we will take a closer look at the New York Airbnb market by combining data from multiple file types like `.csv`, `.tsv`, and `.xlsx`.\n",
    "\n",
    "Recall that **CSV**, **TSV**, and **Excel** files are three common formats for storing data. \n",
    "Three files containing data on 2019 Airbnb listings are available to you:\n",
    "\n",
    "**data/airbnb_price.csv**\n",
    "This is a CSV file containing data on Airbnb listing prices and locations.\n",
    "- **`listing_id`**: unique identifier of listing\n",
    "- **`price`**: nightly listing price in USD\n",
    "- **`nbhood_full`**: name of borough and neighborhood where listing is located\n",
    "\n",
    "**data/airbnb_room_type.xlsx**\n",
    "This is an Excel file containing data on Airbnb listing descriptions and room types.\n",
    "- **`listing_id`**: unique identifier of listing\n",
    "- **`description`**: listing description\n",
    "- **`room_type`**: Airbnb has three types of rooms: shared rooms, private rooms, and entire homes/apartments\n",
    "\n",
    "**data/airbnb_last_review.tsv**\n",
    "This is a TSV file containing data on Airbnb host names and review dates.\n",
    "- **`listing_id`**: unique identifier of listing\n",
    "- **`host_name`**: name of listing host\n",
    "- **`last_review`**: date when the listing was last reviewed"
   ]
  },
  {
   "cell_type": "code",
   "execution_count": 2,
   "id": "1fdc5784-479e-46cb-b05b-68439dcc94a7",
   "metadata": {
    "executionCancelledAt": null,
    "executionTime": 51,
    "lastExecutedAt": 1745320812749,
    "lastExecutedByKernel": "45541aed-03d2-4cdd-9eac-9415177c161d",
    "lastScheduledRunId": null,
    "lastSuccessfullyExecutedCode": "# Import necessary packages\nimport pandas as pd\nimport numpy as np\n\nprice = pd.read_csv('data/airbnb_price.csv')\nprice.head()",
    "outputsMetadata": {
     "0": {
      "height": 500,
      "tableState": {},
      "type": "dataFrame"
     }
    }
   },
   "outputs": [
    {
     "data": {
      "application/vnd.microsoft.datawrangler.viewer.v0+json": {
       "columns": [
        {
         "name": "index",
         "rawType": "int64",
         "type": "integer"
        },
        {
         "name": "listing_id",
         "rawType": "int64",
         "type": "integer"
        },
        {
         "name": "price",
         "rawType": "object",
         "type": "string"
        },
        {
         "name": "nbhood_full",
         "rawType": "object",
         "type": "string"
        }
       ],
       "conversionMethod": "pd.DataFrame",
       "ref": "7fe68682-a8b2-4834-8173-903fd8f5b44a",
       "rows": [
        [
         "0",
         "2595",
         "225 dollars",
         "Manhattan, Midtown"
        ],
        [
         "1",
         "3831",
         "89 dollars",
         "Brooklyn, Clinton Hill"
        ],
        [
         "2",
         "5099",
         "200 dollars",
         "Manhattan, Murray Hill"
        ],
        [
         "3",
         "5178",
         "79 dollars",
         "Manhattan, Hell's Kitchen"
        ],
        [
         "4",
         "5238",
         "150 dollars",
         "Manhattan, Chinatown"
        ]
       ],
       "shape": {
        "columns": 3,
        "rows": 5
       }
      },
      "text/html": [
       "<div>\n",
       "<style scoped>\n",
       "    .dataframe tbody tr th:only-of-type {\n",
       "        vertical-align: middle;\n",
       "    }\n",
       "\n",
       "    .dataframe tbody tr th {\n",
       "        vertical-align: top;\n",
       "    }\n",
       "\n",
       "    .dataframe thead th {\n",
       "        text-align: right;\n",
       "    }\n",
       "</style>\n",
       "<table border=\"1\" class=\"dataframe\">\n",
       "  <thead>\n",
       "    <tr style=\"text-align: right;\">\n",
       "      <th></th>\n",
       "      <th>listing_id</th>\n",
       "      <th>price</th>\n",
       "      <th>nbhood_full</th>\n",
       "    </tr>\n",
       "  </thead>\n",
       "  <tbody>\n",
       "    <tr>\n",
       "      <th>0</th>\n",
       "      <td>2595</td>\n",
       "      <td>225 dollars</td>\n",
       "      <td>Manhattan, Midtown</td>\n",
       "    </tr>\n",
       "    <tr>\n",
       "      <th>1</th>\n",
       "      <td>3831</td>\n",
       "      <td>89 dollars</td>\n",
       "      <td>Brooklyn, Clinton Hill</td>\n",
       "    </tr>\n",
       "    <tr>\n",
       "      <th>2</th>\n",
       "      <td>5099</td>\n",
       "      <td>200 dollars</td>\n",
       "      <td>Manhattan, Murray Hill</td>\n",
       "    </tr>\n",
       "    <tr>\n",
       "      <th>3</th>\n",
       "      <td>5178</td>\n",
       "      <td>79 dollars</td>\n",
       "      <td>Manhattan, Hell's Kitchen</td>\n",
       "    </tr>\n",
       "    <tr>\n",
       "      <th>4</th>\n",
       "      <td>5238</td>\n",
       "      <td>150 dollars</td>\n",
       "      <td>Manhattan, Chinatown</td>\n",
       "    </tr>\n",
       "  </tbody>\n",
       "</table>\n",
       "</div>"
      ],
      "text/plain": [
       "   listing_id        price                nbhood_full\n",
       "0        2595  225 dollars         Manhattan, Midtown\n",
       "1        3831   89 dollars     Brooklyn, Clinton Hill\n",
       "2        5099  200 dollars     Manhattan, Murray Hill\n",
       "3        5178   79 dollars  Manhattan, Hell's Kitchen\n",
       "4        5238  150 dollars       Manhattan, Chinatown"
      ]
     },
     "execution_count": 2,
     "metadata": {},
     "output_type": "execute_result"
    }
   ],
   "source": [
    "# Import necessary packages\n",
    "import pandas as pd\n",
    "import numpy as np\n",
    "\n",
    "price = pd.read_csv('data/airbnb_price.csv')\n",
    "price.head()"
   ]
  },
  {
   "cell_type": "markdown",
   "id": "b5161ca1-154a-43b5-a60d-b8ac06e08a4a",
   "metadata": {},
   "source": [
    "### Loading the data"
   ]
  },
  {
   "cell_type": "code",
   "execution_count": 3,
   "id": "4c6b5999-bcde-4504-b892-34e737f62134",
   "metadata": {
    "executionCancelledAt": null,
    "executionTime": 1354,
    "lastExecutedAt": 1745320814103,
    "lastExecutedByKernel": "45541aed-03d2-4cdd-9eac-9415177c161d",
    "lastScheduledRunId": null,
    "lastSuccessfullyExecutedCode": "room = pd.read_excel('data/airbnb_room_type.xlsx')\nroom.head()",
    "outputsMetadata": {
     "0": {
      "height": 500,
      "tableState": {},
      "type": "dataFrame"
     }
    }
   },
   "outputs": [
    {
     "data": {
      "application/vnd.microsoft.datawrangler.viewer.v0+json": {
       "columns": [
        {
         "name": "index",
         "rawType": "int64",
         "type": "integer"
        },
        {
         "name": "listing_id",
         "rawType": "int64",
         "type": "integer"
        },
        {
         "name": "description",
         "rawType": "object",
         "type": "string"
        },
        {
         "name": "room_type",
         "rawType": "object",
         "type": "string"
        }
       ],
       "conversionMethod": "pd.DataFrame",
       "ref": "2506bea9-ecf4-4f35-ba23-0b0f53c90aee",
       "rows": [
        [
         "0",
         "2595",
         "Skylit Midtown Castle",
         "Entire home/apt"
        ],
        [
         "1",
         "3831",
         "Cozy Entire Floor of Brownstone",
         "Entire home/apt"
        ],
        [
         "2",
         "5099",
         "Large Cozy 1 BR Apartment In Midtown East",
         "Entire home/apt"
        ],
        [
         "3",
         "5178",
         "Large Furnished Room Near B'way",
         "private room"
        ],
        [
         "4",
         "5238",
         "Cute & Cozy Lower East Side 1 bdrm",
         "Entire home/apt"
        ]
       ],
       "shape": {
        "columns": 3,
        "rows": 5
       }
      },
      "text/html": [
       "<div>\n",
       "<style scoped>\n",
       "    .dataframe tbody tr th:only-of-type {\n",
       "        vertical-align: middle;\n",
       "    }\n",
       "\n",
       "    .dataframe tbody tr th {\n",
       "        vertical-align: top;\n",
       "    }\n",
       "\n",
       "    .dataframe thead th {\n",
       "        text-align: right;\n",
       "    }\n",
       "</style>\n",
       "<table border=\"1\" class=\"dataframe\">\n",
       "  <thead>\n",
       "    <tr style=\"text-align: right;\">\n",
       "      <th></th>\n",
       "      <th>listing_id</th>\n",
       "      <th>description</th>\n",
       "      <th>room_type</th>\n",
       "    </tr>\n",
       "  </thead>\n",
       "  <tbody>\n",
       "    <tr>\n",
       "      <th>0</th>\n",
       "      <td>2595</td>\n",
       "      <td>Skylit Midtown Castle</td>\n",
       "      <td>Entire home/apt</td>\n",
       "    </tr>\n",
       "    <tr>\n",
       "      <th>1</th>\n",
       "      <td>3831</td>\n",
       "      <td>Cozy Entire Floor of Brownstone</td>\n",
       "      <td>Entire home/apt</td>\n",
       "    </tr>\n",
       "    <tr>\n",
       "      <th>2</th>\n",
       "      <td>5099</td>\n",
       "      <td>Large Cozy 1 BR Apartment In Midtown East</td>\n",
       "      <td>Entire home/apt</td>\n",
       "    </tr>\n",
       "    <tr>\n",
       "      <th>3</th>\n",
       "      <td>5178</td>\n",
       "      <td>Large Furnished Room Near B'way</td>\n",
       "      <td>private room</td>\n",
       "    </tr>\n",
       "    <tr>\n",
       "      <th>4</th>\n",
       "      <td>5238</td>\n",
       "      <td>Cute &amp; Cozy Lower East Side 1 bdrm</td>\n",
       "      <td>Entire home/apt</td>\n",
       "    </tr>\n",
       "  </tbody>\n",
       "</table>\n",
       "</div>"
      ],
      "text/plain": [
       "   listing_id                                description        room_type\n",
       "0        2595                      Skylit Midtown Castle  Entire home/apt\n",
       "1        3831            Cozy Entire Floor of Brownstone  Entire home/apt\n",
       "2        5099  Large Cozy 1 BR Apartment In Midtown East  Entire home/apt\n",
       "3        5178            Large Furnished Room Near B'way     private room\n",
       "4        5238         Cute & Cozy Lower East Side 1 bdrm  Entire home/apt"
      ]
     },
     "execution_count": 3,
     "metadata": {},
     "output_type": "execute_result"
    }
   ],
   "source": [
    "room = pd.read_excel('data/airbnb_room_type.xlsx')\n",
    "room.head()"
   ]
  },
  {
   "cell_type": "code",
   "execution_count": 4,
   "id": "6fcbaf90-b057-4b92-b671-0e04b726179f",
   "metadata": {
    "executionCancelledAt": null,
    "executionTime": 55,
    "lastExecutedAt": 1745320814158,
    "lastExecutedByKernel": "45541aed-03d2-4cdd-9eac-9415177c161d",
    "lastScheduledRunId": null,
    "lastSuccessfullyExecutedCode": "review = pd.read_csv('data/airbnb_last_review.tsv', sep='\\t')\nreview.head()",
    "outputsMetadata": {
     "0": {
      "height": 500,
      "tableState": {},
      "type": "dataFrame"
     }
    }
   },
   "outputs": [
    {
     "data": {
      "application/vnd.microsoft.datawrangler.viewer.v0+json": {
       "columns": [
        {
         "name": "index",
         "rawType": "int64",
         "type": "integer"
        },
        {
         "name": "listing_id",
         "rawType": "int64",
         "type": "integer"
        },
        {
         "name": "host_name",
         "rawType": "object",
         "type": "string"
        },
        {
         "name": "last_review",
         "rawType": "object",
         "type": "string"
        }
       ],
       "conversionMethod": "pd.DataFrame",
       "ref": "73aa99ec-b4ef-4bc9-bea5-4835ec1b41c0",
       "rows": [
        [
         "0",
         "2595",
         "Jennifer",
         "May 21 2019"
        ],
        [
         "1",
         "3831",
         "LisaRoxanne",
         "July 05 2019"
        ],
        [
         "2",
         "5099",
         "Chris",
         "June 22 2019"
        ],
        [
         "3",
         "5178",
         "Shunichi",
         "June 24 2019"
        ],
        [
         "4",
         "5238",
         "Ben",
         "June 09 2019"
        ]
       ],
       "shape": {
        "columns": 3,
        "rows": 5
       }
      },
      "text/html": [
       "<div>\n",
       "<style scoped>\n",
       "    .dataframe tbody tr th:only-of-type {\n",
       "        vertical-align: middle;\n",
       "    }\n",
       "\n",
       "    .dataframe tbody tr th {\n",
       "        vertical-align: top;\n",
       "    }\n",
       "\n",
       "    .dataframe thead th {\n",
       "        text-align: right;\n",
       "    }\n",
       "</style>\n",
       "<table border=\"1\" class=\"dataframe\">\n",
       "  <thead>\n",
       "    <tr style=\"text-align: right;\">\n",
       "      <th></th>\n",
       "      <th>listing_id</th>\n",
       "      <th>host_name</th>\n",
       "      <th>last_review</th>\n",
       "    </tr>\n",
       "  </thead>\n",
       "  <tbody>\n",
       "    <tr>\n",
       "      <th>0</th>\n",
       "      <td>2595</td>\n",
       "      <td>Jennifer</td>\n",
       "      <td>May 21 2019</td>\n",
       "    </tr>\n",
       "    <tr>\n",
       "      <th>1</th>\n",
       "      <td>3831</td>\n",
       "      <td>LisaRoxanne</td>\n",
       "      <td>July 05 2019</td>\n",
       "    </tr>\n",
       "    <tr>\n",
       "      <th>2</th>\n",
       "      <td>5099</td>\n",
       "      <td>Chris</td>\n",
       "      <td>June 22 2019</td>\n",
       "    </tr>\n",
       "    <tr>\n",
       "      <th>3</th>\n",
       "      <td>5178</td>\n",
       "      <td>Shunichi</td>\n",
       "      <td>June 24 2019</td>\n",
       "    </tr>\n",
       "    <tr>\n",
       "      <th>4</th>\n",
       "      <td>5238</td>\n",
       "      <td>Ben</td>\n",
       "      <td>June 09 2019</td>\n",
       "    </tr>\n",
       "  </tbody>\n",
       "</table>\n",
       "</div>"
      ],
      "text/plain": [
       "   listing_id    host_name   last_review\n",
       "0        2595     Jennifer   May 21 2019\n",
       "1        3831  LisaRoxanne  July 05 2019\n",
       "2        5099        Chris  June 22 2019\n",
       "3        5178     Shunichi  June 24 2019\n",
       "4        5238          Ben  June 09 2019"
      ]
     },
     "execution_count": 4,
     "metadata": {},
     "output_type": "execute_result"
    }
   ],
   "source": [
    "review = pd.read_csv('data/airbnb_last_review.tsv', sep='\\t')\n",
    "review.head()"
   ]
  },
  {
   "cell_type": "markdown",
   "id": "791c5844-f4c1-4f79-9503-ea92a0d01891",
   "metadata": {},
   "source": [
    "### Merging the three DataFrames"
   ]
  },
  {
   "cell_type": "code",
   "execution_count": 5,
   "id": "b2e984f8-4b60-4075-ad0c-e7e3e2e49c44",
   "metadata": {
    "executionCancelledAt": null,
    "executionTime": 54,
    "lastExecutedAt": 1745320814212,
    "lastExecutedByKernel": "45541aed-03d2-4cdd-9eac-9415177c161d",
    "lastScheduledRunId": null,
    "lastSuccessfullyExecutedCode": "# first merge price and review dataframes\nprice_and_review = pd.merge(price, room, on = 'listing_id')"
   },
   "outputs": [],
   "source": [
    "# first merge price and review dataframes\n",
    "price_and_review = pd.merge(price, room, on = 'listing_id')"
   ]
  },
  {
   "cell_type": "code",
   "execution_count": 6,
   "id": "c7e60b8d-6ea5-4858-92e0-cf29aa0fc9d4",
   "metadata": {
    "executionCancelledAt": null,
    "executionTime": 54,
    "lastExecutedAt": 1745320814268,
    "lastExecutedByKernel": "45541aed-03d2-4cdd-9eac-9415177c161d",
    "lastScheduledRunId": null,
    "lastSuccessfullyExecutedCode": "# Then merge the price_and_review with the last dataframe which review\nmerged = pd.merge(price_and_review, review, on='listing_id')"
   },
   "outputs": [],
   "source": [
    "# Then merge the price_and_review with the last dataframe which review\n",
    "merged = pd.merge(price_and_review, review, on='listing_id')"
   ]
  },
  {
   "cell_type": "code",
   "execution_count": 7,
   "id": "ef4f808f-1b30-4519-8f13-8123439db721",
   "metadata": {
    "executionCancelledAt": null,
    "executionTime": 56,
    "lastExecutedAt": 1745320814324,
    "lastExecutedByKernel": "45541aed-03d2-4cdd-9eac-9415177c161d",
    "lastScheduledRunId": null,
    "lastSuccessfullyExecutedCode": "# looking at the 3 merged data frames\nmerged.head()",
    "outputsMetadata": {
     "0": {
      "height": 500,
      "tableState": {},
      "type": "dataFrame"
     }
    }
   },
   "outputs": [
    {
     "data": {
      "application/vnd.microsoft.datawrangler.viewer.v0+json": {
       "columns": [
        {
         "name": "index",
         "rawType": "int64",
         "type": "integer"
        },
        {
         "name": "listing_id",
         "rawType": "int64",
         "type": "integer"
        },
        {
         "name": "price",
         "rawType": "object",
         "type": "string"
        },
        {
         "name": "nbhood_full",
         "rawType": "object",
         "type": "string"
        },
        {
         "name": "description",
         "rawType": "object",
         "type": "string"
        },
        {
         "name": "room_type",
         "rawType": "object",
         "type": "string"
        },
        {
         "name": "host_name",
         "rawType": "object",
         "type": "string"
        },
        {
         "name": "last_review",
         "rawType": "object",
         "type": "string"
        }
       ],
       "conversionMethod": "pd.DataFrame",
       "ref": "8ad16170-155b-4e30-aca4-9693a624dc4c",
       "rows": [
        [
         "0",
         "2595",
         "225 dollars",
         "Manhattan, Midtown",
         "Skylit Midtown Castle",
         "Entire home/apt",
         "Jennifer",
         "May 21 2019"
        ],
        [
         "1",
         "3831",
         "89 dollars",
         "Brooklyn, Clinton Hill",
         "Cozy Entire Floor of Brownstone",
         "Entire home/apt",
         "LisaRoxanne",
         "July 05 2019"
        ],
        [
         "2",
         "5099",
         "200 dollars",
         "Manhattan, Murray Hill",
         "Large Cozy 1 BR Apartment In Midtown East",
         "Entire home/apt",
         "Chris",
         "June 22 2019"
        ],
        [
         "3",
         "5178",
         "79 dollars",
         "Manhattan, Hell's Kitchen",
         "Large Furnished Room Near B'way",
         "private room",
         "Shunichi",
         "June 24 2019"
        ],
        [
         "4",
         "5238",
         "150 dollars",
         "Manhattan, Chinatown",
         "Cute & Cozy Lower East Side 1 bdrm",
         "Entire home/apt",
         "Ben",
         "June 09 2019"
        ]
       ],
       "shape": {
        "columns": 7,
        "rows": 5
       }
      },
      "text/html": [
       "<div>\n",
       "<style scoped>\n",
       "    .dataframe tbody tr th:only-of-type {\n",
       "        vertical-align: middle;\n",
       "    }\n",
       "\n",
       "    .dataframe tbody tr th {\n",
       "        vertical-align: top;\n",
       "    }\n",
       "\n",
       "    .dataframe thead th {\n",
       "        text-align: right;\n",
       "    }\n",
       "</style>\n",
       "<table border=\"1\" class=\"dataframe\">\n",
       "  <thead>\n",
       "    <tr style=\"text-align: right;\">\n",
       "      <th></th>\n",
       "      <th>listing_id</th>\n",
       "      <th>price</th>\n",
       "      <th>nbhood_full</th>\n",
       "      <th>description</th>\n",
       "      <th>room_type</th>\n",
       "      <th>host_name</th>\n",
       "      <th>last_review</th>\n",
       "    </tr>\n",
       "  </thead>\n",
       "  <tbody>\n",
       "    <tr>\n",
       "      <th>0</th>\n",
       "      <td>2595</td>\n",
       "      <td>225 dollars</td>\n",
       "      <td>Manhattan, Midtown</td>\n",
       "      <td>Skylit Midtown Castle</td>\n",
       "      <td>Entire home/apt</td>\n",
       "      <td>Jennifer</td>\n",
       "      <td>May 21 2019</td>\n",
       "    </tr>\n",
       "    <tr>\n",
       "      <th>1</th>\n",
       "      <td>3831</td>\n",
       "      <td>89 dollars</td>\n",
       "      <td>Brooklyn, Clinton Hill</td>\n",
       "      <td>Cozy Entire Floor of Brownstone</td>\n",
       "      <td>Entire home/apt</td>\n",
       "      <td>LisaRoxanne</td>\n",
       "      <td>July 05 2019</td>\n",
       "    </tr>\n",
       "    <tr>\n",
       "      <th>2</th>\n",
       "      <td>5099</td>\n",
       "      <td>200 dollars</td>\n",
       "      <td>Manhattan, Murray Hill</td>\n",
       "      <td>Large Cozy 1 BR Apartment In Midtown East</td>\n",
       "      <td>Entire home/apt</td>\n",
       "      <td>Chris</td>\n",
       "      <td>June 22 2019</td>\n",
       "    </tr>\n",
       "    <tr>\n",
       "      <th>3</th>\n",
       "      <td>5178</td>\n",
       "      <td>79 dollars</td>\n",
       "      <td>Manhattan, Hell's Kitchen</td>\n",
       "      <td>Large Furnished Room Near B'way</td>\n",
       "      <td>private room</td>\n",
       "      <td>Shunichi</td>\n",
       "      <td>June 24 2019</td>\n",
       "    </tr>\n",
       "    <tr>\n",
       "      <th>4</th>\n",
       "      <td>5238</td>\n",
       "      <td>150 dollars</td>\n",
       "      <td>Manhattan, Chinatown</td>\n",
       "      <td>Cute &amp; Cozy Lower East Side 1 bdrm</td>\n",
       "      <td>Entire home/apt</td>\n",
       "      <td>Ben</td>\n",
       "      <td>June 09 2019</td>\n",
       "    </tr>\n",
       "  </tbody>\n",
       "</table>\n",
       "</div>"
      ],
      "text/plain": [
       "   listing_id        price                nbhood_full  \\\n",
       "0        2595  225 dollars         Manhattan, Midtown   \n",
       "1        3831   89 dollars     Brooklyn, Clinton Hill   \n",
       "2        5099  200 dollars     Manhattan, Murray Hill   \n",
       "3        5178   79 dollars  Manhattan, Hell's Kitchen   \n",
       "4        5238  150 dollars       Manhattan, Chinatown   \n",
       "\n",
       "                                 description        room_type    host_name  \\\n",
       "0                      Skylit Midtown Castle  Entire home/apt     Jennifer   \n",
       "1            Cozy Entire Floor of Brownstone  Entire home/apt  LisaRoxanne   \n",
       "2  Large Cozy 1 BR Apartment In Midtown East  Entire home/apt        Chris   \n",
       "3            Large Furnished Room Near B'way     private room     Shunichi   \n",
       "4         Cute & Cozy Lower East Side 1 bdrm  Entire home/apt          Ben   \n",
       "\n",
       "    last_review  \n",
       "0   May 21 2019  \n",
       "1  July 05 2019  \n",
       "2  June 22 2019  \n",
       "3  June 24 2019  \n",
       "4  June 09 2019  "
      ]
     },
     "execution_count": 7,
     "metadata": {},
     "output_type": "execute_result"
    }
   ],
   "source": [
    "# looking at the 3 merged data frames\n",
    "merged.head()"
   ]
  },
  {
   "cell_type": "code",
   "execution_count": 8,
   "id": "49e4970a-3b23-4b24-a62e-de1025e1c2b9",
   "metadata": {
    "executionCancelledAt": null,
    "executionTime": 51,
    "lastExecutedAt": 1745320814376,
    "lastExecutedByKernel": "45541aed-03d2-4cdd-9eac-9415177c161d",
    "lastScheduledRunId": null,
    "lastSuccessfullyExecutedCode": "# converting the last_review to datetime \nmerged[\"last_review\"] = pd.to_datetime(merged[\"last_review\"])\n",
    "outputsMetadata": {
     "0": {
      "height": 269,
      "type": "stream"
     }
    }
   },
   "outputs": [],
   "source": [
    "# converting the last_review to datetime \n",
    "merged[\"last_review\"] = pd.to_datetime(merged[\"last_review\"])\n"
   ]
  },
  {
   "cell_type": "code",
   "execution_count": 9,
   "id": "49287171-ea76-4644-baf1-1b5c7d7c0e80",
   "metadata": {
    "executionCancelledAt": null,
    "executionTime": 58,
    "lastExecutedAt": 1745320814436,
    "lastExecutedByKernel": "45541aed-03d2-4cdd-9eac-9415177c161d",
    "lastScheduledRunId": null,
    "lastSuccessfullyExecutedCode": "print(merged.head())"
   },
   "outputs": [
    {
     "name": "stdout",
     "output_type": "stream",
     "text": [
      "   listing_id        price                nbhood_full  \\\n",
      "0        2595  225 dollars         Manhattan, Midtown   \n",
      "1        3831   89 dollars     Brooklyn, Clinton Hill   \n",
      "2        5099  200 dollars     Manhattan, Murray Hill   \n",
      "3        5178   79 dollars  Manhattan, Hell's Kitchen   \n",
      "4        5238  150 dollars       Manhattan, Chinatown   \n",
      "\n",
      "                                 description        room_type    host_name  \\\n",
      "0                      Skylit Midtown Castle  Entire home/apt     Jennifer   \n",
      "1            Cozy Entire Floor of Brownstone  Entire home/apt  LisaRoxanne   \n",
      "2  Large Cozy 1 BR Apartment In Midtown East  Entire home/apt        Chris   \n",
      "3            Large Furnished Room Near B'way     private room     Shunichi   \n",
      "4         Cute & Cozy Lower East Side 1 bdrm  Entire home/apt          Ben   \n",
      "\n",
      "  last_review  \n",
      "0  2019-05-21  \n",
      "1  2019-07-05  \n",
      "2  2019-06-22  \n",
      "3  2019-06-24  \n",
      "4  2019-06-09  \n"
     ]
    }
   ],
   "source": [
    "print(merged.head())"
   ]
  },
  {
   "cell_type": "markdown",
   "id": "2c48311a-53d5-4136-a552-b6bad89a0754",
   "metadata": {},
   "source": [
    "### Determining the earliest and most recent review dates"
   ]
  },
  {
   "cell_type": "code",
   "execution_count": 10,
   "id": "fc1b5279-84c7-496d-9b52-dd0154e0c7a5",
   "metadata": {
    "executionCancelledAt": null,
    "executionTime": 50,
    "lastExecutedAt": 1745320814486,
    "lastExecutedByKernel": "45541aed-03d2-4cdd-9eac-9415177c161d",
    "lastScheduledRunId": null,
    "lastSuccessfullyExecutedCode": "# finding the earliest review\nearliest_review = merged['last_review'].min()\nprint(f\"The earliest review date is {earliest_review}\")"
   },
   "outputs": [
    {
     "name": "stdout",
     "output_type": "stream",
     "text": [
      "The earliest review date is 2019-01-01 00:00:00\n"
     ]
    }
   ],
   "source": [
    "# finding the earliest review\n",
    "earliest_review = merged['last_review'].min()\n",
    "print(f\"The earliest review date is {earliest_review}\")"
   ]
  },
  {
   "cell_type": "code",
   "execution_count": 11,
   "id": "735d0092-4d22-493f-81ee-9e24ab78f689",
   "metadata": {
    "executionCancelledAt": null,
    "executionTime": 51,
    "lastExecutedAt": 1745320814537,
    "lastExecutedByKernel": "45541aed-03d2-4cdd-9eac-9415177c161d",
    "lastScheduledRunId": null,
    "lastSuccessfullyExecutedCode": "# finding the latest review\nrecent_review = merged['last_review'].max()\nprint(f\"The latest review date is {recent_review}\")"
   },
   "outputs": [
    {
     "name": "stdout",
     "output_type": "stream",
     "text": [
      "The latest review date is 2019-07-09 00:00:00\n"
     ]
    }
   ],
   "source": [
    "# finding the latest review\n",
    "recent_review = merged['last_review'].max()\n",
    "print(f\"The latest review date is {recent_review}\")"
   ]
  },
  {
   "cell_type": "code",
   "execution_count": 12,
   "id": "4836ac18-2652-4d29-91f0-f20904a888c0",
   "metadata": {
    "executionCancelledAt": null,
    "executionTime": 55,
    "lastExecutedAt": 1745320814593,
    "lastExecutedByKernel": "45541aed-03d2-4cdd-9eac-9415177c161d",
    "lastScheduledRunId": null,
    "lastSuccessfullyExecutedCode": "# Looking at the different types of room\nprint(merged['room_type'].unique())"
   },
   "outputs": [
    {
     "name": "stdout",
     "output_type": "stream",
     "text": [
      "['Entire home/apt' 'private room' 'Private room' 'entire home/apt'\n",
      " 'PRIVATE ROOM' 'shared room' 'ENTIRE HOME/APT' 'Shared room'\n",
      " 'SHARED ROOM']\n"
     ]
    }
   ],
   "source": [
    "# Looking at the different types of room\n",
    "print(merged['room_type'].unique())"
   ]
  },
  {
   "cell_type": "code",
   "execution_count": 13,
   "id": "a5f3511b-b211-44e2-9d53-26e85c24e5a5",
   "metadata": {
    "executionCancelledAt": null,
    "executionTime": 56,
    "lastExecutedAt": 1745320814649,
    "lastExecutedByKernel": "45541aed-03d2-4cdd-9eac-9415177c161d",
    "lastScheduledRunId": null,
    "lastSuccessfullyExecutedCode": "# since room_type has variations in capitalization, I cleaned it by making the room types all consistently becoming lower case.\nmerged['room_type'] = merged['room_type'].str.lower()\nprint(merged['room_type'].unique())",
    "outputsMetadata": {
     "0": {
      "height": 38,
      "type": "stream"
     }
    }
   },
   "outputs": [
    {
     "name": "stdout",
     "output_type": "stream",
     "text": [
      "['entire home/apt' 'private room' 'shared room']\n"
     ]
    }
   ],
   "source": [
    "# since room_type has variations in capitalization, I cleaned it by making the room types all consistently becoming lower case.\n",
    "merged['room_type'] = merged['room_type'].str.lower()\n",
    "print(merged['room_type'].unique())"
   ]
  },
  {
   "cell_type": "code",
   "execution_count": 14,
   "id": "d3657491-40b8-408a-b755-0819edc67843",
   "metadata": {
    "executionCancelledAt": null,
    "executionTime": 53,
    "lastExecutedAt": 1745320814702,
    "lastExecutedByKernel": "45541aed-03d2-4cdd-9eac-9415177c161d",
    "lastScheduledRunId": null,
    "lastSuccessfullyExecutedCode": "# Everything is now cleaned.\nrooms = merged['room_type'].unique()\nprint(rooms)"
   },
   "outputs": [
    {
     "name": "stdout",
     "output_type": "stream",
     "text": [
      "['entire home/apt' 'private room' 'shared room']\n"
     ]
    }
   ],
   "source": [
    "# Everything is now cleaned.\n",
    "rooms = merged['room_type'].unique()\n",
    "print(rooms)"
   ]
  },
  {
   "cell_type": "markdown",
   "id": "1343b7ae-a082-4a16-b828-9c923349783e",
   "metadata": {},
   "source": [
    "\n",
    "### Finding how many listings are private rooms"
   ]
  },
  {
   "cell_type": "code",
   "execution_count": 15,
   "id": "9df1a838-9f2c-4946-a4ae-b3c5acfdef04",
   "metadata": {
    "executionCancelledAt": null,
    "executionTime": 50,
    "lastExecutedAt": 1745320814752,
    "lastExecutedByKernel": "45541aed-03d2-4cdd-9eac-9415177c161d",
    "lastScheduledRunId": null,
    "lastSuccessfullyExecutedCode": "# finding the total number of private room type\nnb_private_rooms = merged[merged['room_type'] == 'private room'].shape[0]\nprint(nb_private_rooms)",
    "outputsMetadata": {
     "0": {
      "height": 38,
      "type": "stream"
     }
    }
   },
   "outputs": [
    {
     "name": "stdout",
     "output_type": "stream",
     "text": [
      "11356\n"
     ]
    }
   ],
   "source": [
    "# finding the total number of private room type\n",
    "nb_private_rooms = merged[merged['room_type'] == 'private room'].shape[0]\n",
    "print(nb_private_rooms)"
   ]
  },
  {
   "cell_type": "code",
   "execution_count": null,
   "id": "ed78a36d-03fe-4952-bc2d-b76a6996cb99",
   "metadata": {
    "executionCancelledAt": null,
    "executionTime": 52,
    "lastExecutedAt": 1745320814804,
    "lastExecutedByKernel": "45541aed-03d2-4cdd-9eac-9415177c161d",
    "lastScheduledRunId": null,
    "lastSuccessfullyExecutedCode": ""
   },
   "outputs": [],
   "source": []
  },
  {
   "cell_type": "markdown",
   "id": "613080d4-743a-453b-bcd0-7d4a43704e61",
   "metadata": {},
   "source": [
    "### Finding the average price of listings"
   ]
  },
  {
   "cell_type": "code",
   "execution_count": 16,
   "id": "46890847-9393-4724-aa3e-e7b505c0924c",
   "metadata": {
    "executionCancelledAt": null,
    "executionTime": 62,
    "lastExecutedAt": 1745320814868,
    "lastExecutedByKernel": "45541aed-03d2-4cdd-9eac-9415177c161d",
    "lastScheduledRunId": null,
    "lastSuccessfullyExecutedCode": "# cleaning the price column to find the average listing price\nmerged['price'] = merged['price'].str.replace(\" dollars\", \"\")\nmerged['price'] = merged['price'].astype(\"float\")"
   },
   "outputs": [],
   "source": [
    "# cleaning the price column to find the average listing price\n",
    "merged['price'] = merged['price'].str.replace(\" dollars\", \"\")\n",
    "merged['price'] = merged['price'].astype(\"float\")"
   ]
  },
  {
   "cell_type": "code",
   "execution_count": 17,
   "id": "d6040aa1-d647-493b-8973-3acab43f5fbd",
   "metadata": {
    "executionCancelledAt": null,
    "executionTime": 52,
    "lastExecutedAt": 1745320814922,
    "lastExecutedByKernel": "45541aed-03d2-4cdd-9eac-9415177c161d",
    "lastScheduledRunId": null,
    "lastSuccessfullyExecutedCode": "#finding the average listing price\navg_price = merged['price'].mean()\navg_price = round(avg_price, 2)\n\nprint(f\"The average listing price is {avg_price} \")"
   },
   "outputs": [
    {
     "name": "stdout",
     "output_type": "stream",
     "text": [
      "The average listing price is 141.78 \n"
     ]
    }
   ],
   "source": [
    "#finding the average listing price\n",
    "avg_price = merged['price'].mean()\n",
    "avg_price = round(avg_price, 2)\n",
    "\n",
    "print(f\"The average listing price is {avg_price} \")"
   ]
  },
  {
   "cell_type": "markdown",
   "id": "4bbc4cbe-80f9-462f-b850-98b4d585a5fb",
   "metadata": {},
   "source": [
    "### Creating a DataFrame with the four solution values"
   ]
  },
  {
   "cell_type": "code",
   "execution_count": 18,
   "id": "fe7500d0-97fd-4c3c-8f6c-5c6519dc1056",
   "metadata": {
    "executionCancelledAt": null,
    "executionTime": 50,
    "lastExecutedAt": 1745320814972,
    "lastExecutedByKernel": "45541aed-03d2-4cdd-9eac-9415177c161d",
    "lastScheduledRunId": null,
    "lastSuccessfullyExecutedCode": "# creating a data frame that holds our valuable/helpful insights from the analysis\nreview_dates = pd.DataFrame({\n    \"first_reviewed\": [earliest_review],\n    \"last_reviewed\": [recent_review],\n    \"nb_private_rooms\": [nb_private_rooms],\n    \"avg_price\": [avg_price]\n})\n"
   },
   "outputs": [],
   "source": [
    "# creating a data frame that holds our valuable/helpful insights from the analysis\n",
    "review_dates = pd.DataFrame({\n",
    "    \"first_reviewed\": [earliest_review],\n",
    "    \"last_reviewed\": [recent_review],\n",
    "    \"nb_private_rooms\": [nb_private_rooms],\n",
    "    \"avg_price\": [avg_price]\n",
    "})\n"
   ]
  },
  {
   "cell_type": "code",
   "execution_count": 19,
   "id": "6f26c00f-e619-416f-ba83-79d7cc904b6c",
   "metadata": {
    "executionCancelledAt": null,
    "executionTime": 47,
    "lastExecutedAt": 1745320815021,
    "lastExecutedByKernel": "45541aed-03d2-4cdd-9eac-9415177c161d",
    "lastScheduledRunId": null,
    "lastSuccessfullyExecutedCode": ""
   },
   "outputs": [
    {
     "name": "stdout",
     "output_type": "stream",
     "text": [
      "  first_reviewed last_reviewed  nb_private_rooms  avg_price\n",
      "0     2019-01-01    2019-07-09             11356     141.78\n"
     ]
    }
   ],
   "source": [
    "print(review_dates)"
   ]
  }
 ],
 "metadata": {
  "colab": {
   "name": "Welcome to DataCamp Workspaces.ipynb",
   "provenance": []
  },
  "editor": "DataLab",
  "kernelspec": {
   "display_name": "base",
   "language": "python",
   "name": "python3"
  },
  "language_info": {
   "codemirror_mode": {
    "name": "ipython",
    "version": 3
   },
   "file_extension": ".py",
   "mimetype": "text/x-python",
   "name": "python",
   "nbconvert_exporter": "python",
   "pygments_lexer": "ipython3",
   "version": "3.12.4"
  }
 },
 "nbformat": 4,
 "nbformat_minor": 5
}
